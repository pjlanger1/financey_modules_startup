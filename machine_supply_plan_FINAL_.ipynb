{
  "nbformat": 4,
  "nbformat_minor": 0,
  "metadata": {
    "colab": {
      "provenance": []
    },
    "kernelspec": {
      "name": "python3",
      "display_name": "Python 3"
    },
    "language_info": {
      "name": "python"
    }
  },
  "cells": [
    {
      "cell_type": "markdown",
      "source": [
        "\n",
        "\n",
        "\n",
        "\n",
        "*   Run cell\n",
        "*   Import output of query (see \"For use with query...\")\n",
        "*   Run subsequent cells\n",
        "*   Output will save to Google Drive dated with the date.\n",
        "\n"
      ],
      "metadata": {
        "id": "_cErW4uFKjZS"
      }
    },
    {
      "cell_type": "code",
      "execution_count": 1,
      "metadata": {
        "colab": {
          "base_uri": "https://localhost:8080/",
          "height": 38
        },
        "id": "rfcPnUq1RD8A",
        "outputId": "1f870be1-d993-453c-cbfe-6cb6d1ead4ac"
      },
      "outputs": [
        {
          "output_type": "display_data",
          "data": {
            "text/plain": [
              "<IPython.core.display.HTML object>"
            ],
            "text/html": [
              "\n",
              "     <input type=\"file\" id=\"files-328c5024-538a-4968-bb04-09385805061a\" name=\"files[]\" multiple disabled\n",
              "        style=\"border:none\" />\n",
              "     <output id=\"result-328c5024-538a-4968-bb04-09385805061a\">\n",
              "      Upload widget is only available when the cell has been executed in the\n",
              "      current browser session. Please rerun this cell to enable.\n",
              "      </output>\n",
              "      <script>// Copyright 2017 Google LLC\n",
              "//\n",
              "// Licensed under the Apache License, Version 2.0 (the \"License\");\n",
              "// you may not use this file except in compliance with the License.\n",
              "// You may obtain a copy of the License at\n",
              "//\n",
              "//      http://www.apache.org/licenses/LICENSE-2.0\n",
              "//\n",
              "// Unless required by applicable law or agreed to in writing, software\n",
              "// distributed under the License is distributed on an \"AS IS\" BASIS,\n",
              "// WITHOUT WARRANTIES OR CONDITIONS OF ANY KIND, either express or implied.\n",
              "// See the License for the specific language governing permissions and\n",
              "// limitations under the License.\n",
              "\n",
              "/**\n",
              " * @fileoverview Helpers for google.colab Python module.\n",
              " */\n",
              "(function(scope) {\n",
              "function span(text, styleAttributes = {}) {\n",
              "  const element = document.createElement('span');\n",
              "  element.textContent = text;\n",
              "  for (const key of Object.keys(styleAttributes)) {\n",
              "    element.style[key] = styleAttributes[key];\n",
              "  }\n",
              "  return element;\n",
              "}\n",
              "\n",
              "// Max number of bytes which will be uploaded at a time.\n",
              "const MAX_PAYLOAD_SIZE = 100 * 1024;\n",
              "\n",
              "function _uploadFiles(inputId, outputId) {\n",
              "  const steps = uploadFilesStep(inputId, outputId);\n",
              "  const outputElement = document.getElementById(outputId);\n",
              "  // Cache steps on the outputElement to make it available for the next call\n",
              "  // to uploadFilesContinue from Python.\n",
              "  outputElement.steps = steps;\n",
              "\n",
              "  return _uploadFilesContinue(outputId);\n",
              "}\n",
              "\n",
              "// This is roughly an async generator (not supported in the browser yet),\n",
              "// where there are multiple asynchronous steps and the Python side is going\n",
              "// to poll for completion of each step.\n",
              "// This uses a Promise to block the python side on completion of each step,\n",
              "// then passes the result of the previous step as the input to the next step.\n",
              "function _uploadFilesContinue(outputId) {\n",
              "  const outputElement = document.getElementById(outputId);\n",
              "  const steps = outputElement.steps;\n",
              "\n",
              "  const next = steps.next(outputElement.lastPromiseValue);\n",
              "  return Promise.resolve(next.value.promise).then((value) => {\n",
              "    // Cache the last promise value to make it available to the next\n",
              "    // step of the generator.\n",
              "    outputElement.lastPromiseValue = value;\n",
              "    return next.value.response;\n",
              "  });\n",
              "}\n",
              "\n",
              "/**\n",
              " * Generator function which is called between each async step of the upload\n",
              " * process.\n",
              " * @param {string} inputId Element ID of the input file picker element.\n",
              " * @param {string} outputId Element ID of the output display.\n",
              " * @return {!Iterable<!Object>} Iterable of next steps.\n",
              " */\n",
              "function* uploadFilesStep(inputId, outputId) {\n",
              "  const inputElement = document.getElementById(inputId);\n",
              "  inputElement.disabled = false;\n",
              "\n",
              "  const outputElement = document.getElementById(outputId);\n",
              "  outputElement.innerHTML = '';\n",
              "\n",
              "  const pickedPromise = new Promise((resolve) => {\n",
              "    inputElement.addEventListener('change', (e) => {\n",
              "      resolve(e.target.files);\n",
              "    });\n",
              "  });\n",
              "\n",
              "  const cancel = document.createElement('button');\n",
              "  inputElement.parentElement.appendChild(cancel);\n",
              "  cancel.textContent = 'Cancel upload';\n",
              "  const cancelPromise = new Promise((resolve) => {\n",
              "    cancel.onclick = () => {\n",
              "      resolve(null);\n",
              "    };\n",
              "  });\n",
              "\n",
              "  // Wait for the user to pick the files.\n",
              "  const files = yield {\n",
              "    promise: Promise.race([pickedPromise, cancelPromise]),\n",
              "    response: {\n",
              "      action: 'starting',\n",
              "    }\n",
              "  };\n",
              "\n",
              "  cancel.remove();\n",
              "\n",
              "  // Disable the input element since further picks are not allowed.\n",
              "  inputElement.disabled = true;\n",
              "\n",
              "  if (!files) {\n",
              "    return {\n",
              "      response: {\n",
              "        action: 'complete',\n",
              "      }\n",
              "    };\n",
              "  }\n",
              "\n",
              "  for (const file of files) {\n",
              "    const li = document.createElement('li');\n",
              "    li.append(span(file.name, {fontWeight: 'bold'}));\n",
              "    li.append(span(\n",
              "        `(${file.type || 'n/a'}) - ${file.size} bytes, ` +\n",
              "        `last modified: ${\n",
              "            file.lastModifiedDate ? file.lastModifiedDate.toLocaleDateString() :\n",
              "                                    'n/a'} - `));\n",
              "    const percent = span('0% done');\n",
              "    li.appendChild(percent);\n",
              "\n",
              "    outputElement.appendChild(li);\n",
              "\n",
              "    const fileDataPromise = new Promise((resolve) => {\n",
              "      const reader = new FileReader();\n",
              "      reader.onload = (e) => {\n",
              "        resolve(e.target.result);\n",
              "      };\n",
              "      reader.readAsArrayBuffer(file);\n",
              "    });\n",
              "    // Wait for the data to be ready.\n",
              "    let fileData = yield {\n",
              "      promise: fileDataPromise,\n",
              "      response: {\n",
              "        action: 'continue',\n",
              "      }\n",
              "    };\n",
              "\n",
              "    // Use a chunked sending to avoid message size limits. See b/62115660.\n",
              "    let position = 0;\n",
              "    do {\n",
              "      const length = Math.min(fileData.byteLength - position, MAX_PAYLOAD_SIZE);\n",
              "      const chunk = new Uint8Array(fileData, position, length);\n",
              "      position += length;\n",
              "\n",
              "      const base64 = btoa(String.fromCharCode.apply(null, chunk));\n",
              "      yield {\n",
              "        response: {\n",
              "          action: 'append',\n",
              "          file: file.name,\n",
              "          data: base64,\n",
              "        },\n",
              "      };\n",
              "\n",
              "      let percentDone = fileData.byteLength === 0 ?\n",
              "          100 :\n",
              "          Math.round((position / fileData.byteLength) * 100);\n",
              "      percent.textContent = `${percentDone}% done`;\n",
              "\n",
              "    } while (position < fileData.byteLength);\n",
              "  }\n",
              "\n",
              "  // All done.\n",
              "  yield {\n",
              "    response: {\n",
              "      action: 'complete',\n",
              "    }\n",
              "  };\n",
              "}\n",
              "\n",
              "scope.google = scope.google || {};\n",
              "scope.google.colab = scope.google.colab || {};\n",
              "scope.google.colab._files = {\n",
              "  _uploadFiles,\n",
              "  _uploadFilesContinue,\n",
              "};\n",
              "})(self);\n",
              "</script> "
            ]
          },
          "metadata": {}
        }
      ],
      "source": [
        "#Importing Libraries.\n",
        "##PLEASE SELECT THE SOURCE FILE BELOW\n",
        "\n",
        "import pandas as pd\n",
        "import numpy as np\n",
        "from google.colab import files\n",
        "import re\n",
        "import datetime as dt\n",
        "from datetime import datetime\n",
        "uploaded = files.upload()"
      ]
    },
    {
      "cell_type": "code",
      "source": [
        "#calling pandas method read_csv to read file selected for upload in previous cell\n",
        "df = pd.read_csv('')"
      ],
      "metadata": {
        "id": "7HFCmjGkSVeJ",
        "colab": {
          "base_uri": "https://localhost:8080/",
          "height": 346
        },
        "outputId": "1b40d933-c614-45a2-9121-832f384e0c06"
      },
      "execution_count": 2,
      "outputs": [
        {
          "output_type": "error",
          "ename": "FileNotFoundError",
          "evalue": "ignored",
          "traceback": [
            "\u001b[0;31m---------------------------------------------------------------------------\u001b[0m",
            "\u001b[0;31mFileNotFoundError\u001b[0m                         Traceback (most recent call last)",
            "\u001b[0;32m<ipython-input-2-be18c27a9fbb>\u001b[0m in \u001b[0;36m<cell line: 2>\u001b[0;34m()\u001b[0m\n\u001b[1;32m      1\u001b[0m \u001b[0;31m#calling pandas method read_csv to read file selected for upload in previous cell\u001b[0m\u001b[0;34m\u001b[0m\u001b[0;34m\u001b[0m\u001b[0m\n\u001b[0;32m----> 2\u001b[0;31m \u001b[0mdf\u001b[0m \u001b[0;34m=\u001b[0m \u001b[0mpd\u001b[0m\u001b[0;34m.\u001b[0m\u001b[0mread_csv\u001b[0m\u001b[0;34m(\u001b[0m\u001b[0;34m''\u001b[0m\u001b[0;34m)\u001b[0m\u001b[0;34m\u001b[0m\u001b[0;34m\u001b[0m\u001b[0m\n\u001b[0m",
            "\u001b[0;32m/usr/local/lib/python3.10/dist-packages/pandas/util/_decorators.py\u001b[0m in \u001b[0;36mwrapper\u001b[0;34m(*args, **kwargs)\u001b[0m\n\u001b[1;32m    209\u001b[0m                 \u001b[0;32melse\u001b[0m\u001b[0;34m:\u001b[0m\u001b[0;34m\u001b[0m\u001b[0;34m\u001b[0m\u001b[0m\n\u001b[1;32m    210\u001b[0m                     \u001b[0mkwargs\u001b[0m\u001b[0;34m[\u001b[0m\u001b[0mnew_arg_name\u001b[0m\u001b[0;34m]\u001b[0m \u001b[0;34m=\u001b[0m \u001b[0mnew_arg_value\u001b[0m\u001b[0;34m\u001b[0m\u001b[0;34m\u001b[0m\u001b[0m\n\u001b[0;32m--> 211\u001b[0;31m             \u001b[0;32mreturn\u001b[0m \u001b[0mfunc\u001b[0m\u001b[0;34m(\u001b[0m\u001b[0;34m*\u001b[0m\u001b[0margs\u001b[0m\u001b[0;34m,\u001b[0m \u001b[0;34m**\u001b[0m\u001b[0mkwargs\u001b[0m\u001b[0;34m)\u001b[0m\u001b[0;34m\u001b[0m\u001b[0;34m\u001b[0m\u001b[0m\n\u001b[0m\u001b[1;32m    212\u001b[0m \u001b[0;34m\u001b[0m\u001b[0m\n\u001b[1;32m    213\u001b[0m         \u001b[0;32mreturn\u001b[0m \u001b[0mcast\u001b[0m\u001b[0;34m(\u001b[0m\u001b[0mF\u001b[0m\u001b[0;34m,\u001b[0m \u001b[0mwrapper\u001b[0m\u001b[0;34m)\u001b[0m\u001b[0;34m\u001b[0m\u001b[0;34m\u001b[0m\u001b[0m\n",
            "\u001b[0;32m/usr/local/lib/python3.10/dist-packages/pandas/util/_decorators.py\u001b[0m in \u001b[0;36mwrapper\u001b[0;34m(*args, **kwargs)\u001b[0m\n\u001b[1;32m    329\u001b[0m                     \u001b[0mstacklevel\u001b[0m\u001b[0;34m=\u001b[0m\u001b[0mfind_stack_level\u001b[0m\u001b[0;34m(\u001b[0m\u001b[0;34m)\u001b[0m\u001b[0;34m,\u001b[0m\u001b[0;34m\u001b[0m\u001b[0;34m\u001b[0m\u001b[0m\n\u001b[1;32m    330\u001b[0m                 )\n\u001b[0;32m--> 331\u001b[0;31m             \u001b[0;32mreturn\u001b[0m \u001b[0mfunc\u001b[0m\u001b[0;34m(\u001b[0m\u001b[0;34m*\u001b[0m\u001b[0margs\u001b[0m\u001b[0;34m,\u001b[0m \u001b[0;34m**\u001b[0m\u001b[0mkwargs\u001b[0m\u001b[0;34m)\u001b[0m\u001b[0;34m\u001b[0m\u001b[0;34m\u001b[0m\u001b[0m\n\u001b[0m\u001b[1;32m    332\u001b[0m \u001b[0;34m\u001b[0m\u001b[0m\n\u001b[1;32m    333\u001b[0m         \u001b[0;31m# error: \"Callable[[VarArg(Any), KwArg(Any)], Any]\" has no\u001b[0m\u001b[0;34m\u001b[0m\u001b[0;34m\u001b[0m\u001b[0m\n",
            "\u001b[0;32m/usr/local/lib/python3.10/dist-packages/pandas/io/parsers/readers.py\u001b[0m in \u001b[0;36mread_csv\u001b[0;34m(filepath_or_buffer, sep, delimiter, header, names, index_col, usecols, squeeze, prefix, mangle_dupe_cols, dtype, engine, converters, true_values, false_values, skipinitialspace, skiprows, skipfooter, nrows, na_values, keep_default_na, na_filter, verbose, skip_blank_lines, parse_dates, infer_datetime_format, keep_date_col, date_parser, dayfirst, cache_dates, iterator, chunksize, compression, thousands, decimal, lineterminator, quotechar, quoting, doublequote, escapechar, comment, encoding, encoding_errors, dialect, error_bad_lines, warn_bad_lines, on_bad_lines, delim_whitespace, low_memory, memory_map, float_precision, storage_options)\u001b[0m\n\u001b[1;32m    948\u001b[0m     \u001b[0mkwds\u001b[0m\u001b[0;34m.\u001b[0m\u001b[0mupdate\u001b[0m\u001b[0;34m(\u001b[0m\u001b[0mkwds_defaults\u001b[0m\u001b[0;34m)\u001b[0m\u001b[0;34m\u001b[0m\u001b[0;34m\u001b[0m\u001b[0m\n\u001b[1;32m    949\u001b[0m \u001b[0;34m\u001b[0m\u001b[0m\n\u001b[0;32m--> 950\u001b[0;31m     \u001b[0;32mreturn\u001b[0m \u001b[0m_read\u001b[0m\u001b[0;34m(\u001b[0m\u001b[0mfilepath_or_buffer\u001b[0m\u001b[0;34m,\u001b[0m \u001b[0mkwds\u001b[0m\u001b[0;34m)\u001b[0m\u001b[0;34m\u001b[0m\u001b[0;34m\u001b[0m\u001b[0m\n\u001b[0m\u001b[1;32m    951\u001b[0m \u001b[0;34m\u001b[0m\u001b[0m\n\u001b[1;32m    952\u001b[0m \u001b[0;34m\u001b[0m\u001b[0m\n",
            "\u001b[0;32m/usr/local/lib/python3.10/dist-packages/pandas/io/parsers/readers.py\u001b[0m in \u001b[0;36m_read\u001b[0;34m(filepath_or_buffer, kwds)\u001b[0m\n\u001b[1;32m    603\u001b[0m \u001b[0;34m\u001b[0m\u001b[0m\n\u001b[1;32m    604\u001b[0m     \u001b[0;31m# Create the parser.\u001b[0m\u001b[0;34m\u001b[0m\u001b[0;34m\u001b[0m\u001b[0m\n\u001b[0;32m--> 605\u001b[0;31m     \u001b[0mparser\u001b[0m \u001b[0;34m=\u001b[0m \u001b[0mTextFileReader\u001b[0m\u001b[0;34m(\u001b[0m\u001b[0mfilepath_or_buffer\u001b[0m\u001b[0;34m,\u001b[0m \u001b[0;34m**\u001b[0m\u001b[0mkwds\u001b[0m\u001b[0;34m)\u001b[0m\u001b[0;34m\u001b[0m\u001b[0;34m\u001b[0m\u001b[0m\n\u001b[0m\u001b[1;32m    606\u001b[0m \u001b[0;34m\u001b[0m\u001b[0m\n\u001b[1;32m    607\u001b[0m     \u001b[0;32mif\u001b[0m \u001b[0mchunksize\u001b[0m \u001b[0;32mor\u001b[0m \u001b[0miterator\u001b[0m\u001b[0;34m:\u001b[0m\u001b[0;34m\u001b[0m\u001b[0;34m\u001b[0m\u001b[0m\n",
            "\u001b[0;32m/usr/local/lib/python3.10/dist-packages/pandas/io/parsers/readers.py\u001b[0m in \u001b[0;36m__init__\u001b[0;34m(self, f, engine, **kwds)\u001b[0m\n\u001b[1;32m   1440\u001b[0m \u001b[0;34m\u001b[0m\u001b[0m\n\u001b[1;32m   1441\u001b[0m         \u001b[0mself\u001b[0m\u001b[0;34m.\u001b[0m\u001b[0mhandles\u001b[0m\u001b[0;34m:\u001b[0m \u001b[0mIOHandles\u001b[0m \u001b[0;34m|\u001b[0m \u001b[0;32mNone\u001b[0m \u001b[0;34m=\u001b[0m \u001b[0;32mNone\u001b[0m\u001b[0;34m\u001b[0m\u001b[0;34m\u001b[0m\u001b[0m\n\u001b[0;32m-> 1442\u001b[0;31m         \u001b[0mself\u001b[0m\u001b[0;34m.\u001b[0m\u001b[0m_engine\u001b[0m \u001b[0;34m=\u001b[0m \u001b[0mself\u001b[0m\u001b[0;34m.\u001b[0m\u001b[0m_make_engine\u001b[0m\u001b[0;34m(\u001b[0m\u001b[0mf\u001b[0m\u001b[0;34m,\u001b[0m \u001b[0mself\u001b[0m\u001b[0;34m.\u001b[0m\u001b[0mengine\u001b[0m\u001b[0;34m)\u001b[0m\u001b[0;34m\u001b[0m\u001b[0;34m\u001b[0m\u001b[0m\n\u001b[0m\u001b[1;32m   1443\u001b[0m \u001b[0;34m\u001b[0m\u001b[0m\n\u001b[1;32m   1444\u001b[0m     \u001b[0;32mdef\u001b[0m \u001b[0mclose\u001b[0m\u001b[0;34m(\u001b[0m\u001b[0mself\u001b[0m\u001b[0;34m)\u001b[0m \u001b[0;34m->\u001b[0m \u001b[0;32mNone\u001b[0m\u001b[0;34m:\u001b[0m\u001b[0;34m\u001b[0m\u001b[0;34m\u001b[0m\u001b[0m\n",
            "\u001b[0;32m/usr/local/lib/python3.10/dist-packages/pandas/io/parsers/readers.py\u001b[0m in \u001b[0;36m_make_engine\u001b[0;34m(self, f, engine)\u001b[0m\n\u001b[1;32m   1733\u001b[0m                 \u001b[0;32mif\u001b[0m \u001b[0;34m\"b\"\u001b[0m \u001b[0;32mnot\u001b[0m \u001b[0;32min\u001b[0m \u001b[0mmode\u001b[0m\u001b[0;34m:\u001b[0m\u001b[0;34m\u001b[0m\u001b[0;34m\u001b[0m\u001b[0m\n\u001b[1;32m   1734\u001b[0m                     \u001b[0mmode\u001b[0m \u001b[0;34m+=\u001b[0m \u001b[0;34m\"b\"\u001b[0m\u001b[0;34m\u001b[0m\u001b[0;34m\u001b[0m\u001b[0m\n\u001b[0;32m-> 1735\u001b[0;31m             self.handles = get_handle(\n\u001b[0m\u001b[1;32m   1736\u001b[0m                 \u001b[0mf\u001b[0m\u001b[0;34m,\u001b[0m\u001b[0;34m\u001b[0m\u001b[0;34m\u001b[0m\u001b[0m\n\u001b[1;32m   1737\u001b[0m                 \u001b[0mmode\u001b[0m\u001b[0;34m,\u001b[0m\u001b[0;34m\u001b[0m\u001b[0;34m\u001b[0m\u001b[0m\n",
            "\u001b[0;32m/usr/local/lib/python3.10/dist-packages/pandas/io/common.py\u001b[0m in \u001b[0;36mget_handle\u001b[0;34m(path_or_buf, mode, encoding, compression, memory_map, is_text, errors, storage_options)\u001b[0m\n\u001b[1;32m    854\u001b[0m         \u001b[0;32mif\u001b[0m \u001b[0mioargs\u001b[0m\u001b[0;34m.\u001b[0m\u001b[0mencoding\u001b[0m \u001b[0;32mand\u001b[0m \u001b[0;34m\"b\"\u001b[0m \u001b[0;32mnot\u001b[0m \u001b[0;32min\u001b[0m \u001b[0mioargs\u001b[0m\u001b[0;34m.\u001b[0m\u001b[0mmode\u001b[0m\u001b[0;34m:\u001b[0m\u001b[0;34m\u001b[0m\u001b[0;34m\u001b[0m\u001b[0m\n\u001b[1;32m    855\u001b[0m             \u001b[0;31m# Encoding\u001b[0m\u001b[0;34m\u001b[0m\u001b[0;34m\u001b[0m\u001b[0m\n\u001b[0;32m--> 856\u001b[0;31m             handle = open(\n\u001b[0m\u001b[1;32m    857\u001b[0m                 \u001b[0mhandle\u001b[0m\u001b[0;34m,\u001b[0m\u001b[0;34m\u001b[0m\u001b[0;34m\u001b[0m\u001b[0m\n\u001b[1;32m    858\u001b[0m                 \u001b[0mioargs\u001b[0m\u001b[0;34m.\u001b[0m\u001b[0mmode\u001b[0m\u001b[0;34m,\u001b[0m\u001b[0;34m\u001b[0m\u001b[0;34m\u001b[0m\u001b[0m\n",
            "\u001b[0;31mFileNotFoundError\u001b[0m: [Errno 2] No such file or directory: ''"
          ]
        }
      ]
    },
    {
      "cell_type": "markdown",
      "source": [
        "## PART I RESERVED MACHINE CALCULATIONS\n",
        "\n",
        "> Indented block\n",
        "\n"
      ],
      "metadata": {
        "id": "lNYEFAZAuwbn"
      }
    },
    {
      "cell_type": "code",
      "source": [
        "#subsetting on invoice_type == 'Reserved_Machine' and other stuff, bunch of filters\n",
        "df_rm = df[df['invoice_type'] == 'Reserved_Machine']\n",
        "df_rm = df_rm[df_rm['is_fradulent'] != True]\n",
        "df_rm = df_rm[df_rm['is_employee'] != True]\n",
        "df_rm = df_rm[df_rm['status'].isin(['paid','open','uncollectible'])]\n",
        "df_rm = df_rm[~df_rm['machine_type'].isin([' ','vXXX'])]\n",
        "df_rm['machine_type'] = df_rm['machine_type'].apply(lambda x: 0 if x == ' ' else x).astype(int)\n",
        "df_rm['contract_duration_mos'] = df_rm['contract_duration_mos'].apply(lambda x: 0 if x == ' ' else x).astype(int)\n"
      ],
      "metadata": {
        "id": "LObrJ7l5t9s-"
      },
      "execution_count": null,
      "outputs": []
    },
    {
      "cell_type": "code",
      "source": [
        "#total contract commitment in hours\n",
        "df_rm[['startterm','endterm']] = df_rm[['startterm','endterm']].apply(pd.to_datetime)\n",
        "df_rm['days_duration'] = (df_rm['endterm']-df_rm['startterm']).dt.days + 1 #adding one day in order to be inclusive of day 1\n",
        "df_rm['hours_duration'] = df_rm['days_duration'] *24\n",
        "df_rm['contract_commit'] = df_rm['hours_duration'] * df_rm['machine_type']\n",
        "\n",
        "#Dropping NA Values from Virtual XXXs (NO CALCULATED YYY TYPE for calculation above)\n",
        "df_rm = df_rm[df_rm['contract_commit'].notna()]\n",
        "\n",
        "\n"
      ],
      "metadata": {
        "id": "D5KqdBa31AO3"
      },
      "execution_count": null,
      "outputs": []
    },
    {
      "cell_type": "markdown",
      "source": [],
      "metadata": {
        "id": "M1o-q-jstk8W"
      }
    },
    {
      "cell_type": "code",
      "source": [
        "def dates_config_ri(df_rm):\n",
        "\n",
        "  min_dt = df_rm['startterm'].min().replace(day=1)\n",
        "  max_dt =df_rm['endterm'].max().replace(day=1)\n",
        "  df_rm['start_month'] = df_rm['startterm'].apply(lambda x: x.replace(day = 1))\n",
        "  df_rm['first_month_ME'] = df_rm['start_month'].apply(lambda x: x.replace(month = x.month%12 +1 ))\n",
        "  df_rm['end_month_MS'] = df_rm['endterm'].apply(lambda x: x.replace(day =1))\n",
        "  list_of_months = pd.date_range(min_dt,max_dt, freq='MS').strftime(\"%Y-%m-%d\").tolist()\n",
        "  list_of_month_cols = pd.date_range(min_dt,max_dt, freq='MS').strftime(\"%b_%Y\").tolist()\n",
        "\n",
        "  #creates new month columns in the dataframe, and fills them with 1 if month is in-scope and 0 if month is out of scope.\n",
        "  for i in range(len(list_of_month_cols)):\n",
        "    df_rm[list_of_month_cols[i]] = df_rm.apply(lambda row : 1 if row['start_month'] <= datetime.strptime(list_of_months[i],\"%Y-%m-%d\") <= row['endterm'] else 0,axis = 1)\n",
        "\n",
        "  #creating indicators so that we operate on the correct values in each cell\n",
        "  first_new_col = df_rm.columns.get_loc(list_of_month_cols[0]) #position of the first added month column\n",
        "  stterm = df_rm.columns.get_loc('startterm') #column location of start term, or start of contract date\n",
        "  enterm = df_rm.columns.get_loc('endterm') #column location of end term, or end of contract date\n",
        "  month1 = df_rm.columns.get_loc('first_month_ME') #column location of first contract month month-end date\n",
        "  monthL = df_rm.columns.get_loc('end_month_MS') #column location of final month of contract month-beginning date\n",
        "  durr = df_rm.columns.get_loc('days_duration') #column location of calculated field with total number of contract days\n",
        "  commit = df_rm.columns.get_loc('contract_commit') #column location of contract commitment hours, calculated above as xxxs*hours committed\n",
        "\n",
        "\n",
        "  #double loop, iterates through rows (k) and columns (j), in order to assign allocation percentages to the month columns based on row data\n",
        "  for k in range(len(df_rm['id'])):\n",
        "    for j in range(len(list_of_month_cols)):\n",
        "      #if the month is out of scope, assign zero and move on,\n",
        "      if df_rm.iloc[k, first_new_col + j] == 0:\n",
        "        df_rm.iloc[k, first_new_col + j] = 0\n",
        "      #If the month is in-range, we check for some conditions and allocate number of days in month/ by total contract duration\n",
        "      elif df_rm.iloc[k, first_new_col + j] == 1:\n",
        "        #If this is the first month and year of the contract, we get % by subtracting Contract Start date @12:00am from the first of the next month @12:00am / duration\n",
        "        if datetime.strptime(list_of_months[j],\"%Y-%m-%d\").month == df_rm.iloc[k,stterm].month and datetime.strptime(list_of_months[j],\"%Y-%m-%d\").year == df_rm.iloc[k,stterm].year: #start month check\n",
        "          df_rm.iloc[k,first_new_col + j] = float((df_rm.iloc[k,month1]- df_rm.iloc[k,stterm]).days/ df_rm.iloc[k,durr])\n",
        "        #If this is not the first month and is the last month, then we get % by subtracting the first of the contract ending month @12:00am from the contract end date at 12:00am / duration\n",
        "        elif datetime.strptime(list_of_months[j],\"%Y-%m-%d\").month == df_rm.iloc[k,enterm].month and datetime.strptime(list_of_months[j],\"%Y-%m-%d\").year == df_rm.iloc[k,enterm].year: #end month check\n",
        "          df_rm.iloc[k,first_new_col + j]  = float(df_rm.iloc[k,enterm].day/ df_rm.iloc[k,durr])\n",
        "        #If we're not dealing with a start or end month, we just include the number of days in a month divided by duration ( variable - \"durr\")\n",
        "        else:\n",
        "          df_rm.iloc[k,first_new_col + j] = float((datetime.strptime(list_of_months[j+1],\"%Y-%m-%d\") - datetime.strptime(list_of_months[j],\"%Y-%m-%d\")).days/ df_rm.iloc[k,durr])\n",
        "\n",
        "\n",
        "  #Looping through all the columns to multiply the contract commitment amount by the percentages of contract in a month (in days)\n",
        "  for h in range(len(list_of_month_cols)):\n",
        "    df_rm.iloc[:,first_new_col + h] = df_rm.iloc[:,first_new_col + h] * df_rm.iloc[:,commit]\n",
        "\n",
        "  #a checksum to ensure that the spreading is occurring correctly\n",
        "  df_rm['checksum'] = df_rm[list_of_month_cols].sum(axis = 1)\n",
        "\n",
        "  #returns the fixed dataframe, as well as the month scaffold.\n",
        "  return df_rm, list_of_month_cols\n"
      ],
      "metadata": {
        "id": "B4piahBE4s6R"
      },
      "execution_count": null,
      "outputs": []
    },
    {
      "cell_type": "code",
      "source": [
        "#Calling the above function to generate formatted results\n",
        "reserved_machines, list_of_month_cols = dates_config_ri(df_rm)"
      ],
      "metadata": {
        "id": "jNysQFBsBVpn"
      },
      "execution_count": null,
      "outputs": []
    },
    {
      "cell_type": "markdown",
      "source": [
        "### **Read the next cell carefully, as this is the only error check on the reserved machines**"
      ],
      "metadata": {
        "id": "6yUkCGmOKYKf"
      }
    },
    {
      "cell_type": "code",
      "source": [
        "#Checking to make sure all months were spread evenly.\n",
        "#IF THIS LINE OUTPUTS AN ERROR, THERE WAS AN ISSUE WITH THE CALCULATION\n",
        "assert reserved_machines.checksum.sum() == reserved_machines.contract_commit.sum()"
      ],
      "metadata": {
        "id": "P-pNcpFRB7gQ"
      },
      "execution_count": null,
      "outputs": []
    },
    {
      "cell_type": "code",
      "source": [
        "#finally, aggregating the data for output\n",
        "#final = df_rm.pivot_table(index = 'machine_type', values = list_of_month_cols, aggfunc = sum)\n",
        "pd.options.display.max_columns = None\n",
        "final = df_rm.groupby(['machine_type'], sort=False)[list_of_month_cols].sum().reset_index()"
      ],
      "metadata": {
        "id": "ehTeeShu5lkp"
      },
      "execution_count": null,
      "outputs": []
    },
    {
      "cell_type": "markdown",
      "source": [
        "## PART II - PROCESSING ON-DEMAND INSTANCE DATA"
      ],
      "metadata": {
        "id": "-aY13r6WLCVO"
      }
    },
    {
      "cell_type": "code",
      "source": [
        "#using the same raw data as above, we first filter on the necessary conditions\n",
        "#subsetting on usage in invoice type\n",
        "df_od = df[df['invoice_type'] == 'usage']\n",
        "df_od = df_od[df_od['is_fradulent'] != True]\n",
        "df_od = df_od[df_od['is_employee'] != True]\n",
        "df_od = df_od[df_od['status'].isin(['paid','open','uncollectible'])]\n",
        "df_od = df_od[~df_od['machine_type'].isin([' '])]\n",
        "\n",
        "df_od['machine_type'] = df_od['machine_type'].apply(lambda x: 0 if x == ' ' else x).astype(int)\n",
        "\n",
        "#df_od['quantity_hrs'] = (df_od['machine_type']*df_od['quantity'])/60\n",
        "df_od['quantity_hrs'] = (df_od['mins_used']/60)*df_od['machine_type']\n",
        "\n",
        "#There will be some NAs if xxx TYPE is NA, if this cell produces an error, you have data quality issues\n",
        "assert df_od['quantity_hrs'].isna().sum() == df_od['machine_type'].isnull().sum()\n",
        "#if this test case passes, we drop nulls from table\n",
        "df_od = df_od[df_od['machine_type'].notnull()]\n",
        "\n",
        "#printing the month for pivot column\n",
        "df_od['month_print'] = pd.to_datetime(df_od['month_billed'], format = (\"%Y-%m-%d\")).dt.strftime(\"%b_%Y\")\n"
      ],
      "metadata": {
        "id": "h32sWGhpxgJJ"
      },
      "execution_count": null,
      "outputs": []
    },
    {
      "cell_type": "code",
      "source": [
        "#Creating the pivot\n",
        "df_od_final = df_od.pivot_table(index = 'machine_type', columns = 'month_print', values = 'quantity_hrs', aggfunc = sum).reset_index().fillna(0).reset_index()\n",
        "#rebuilding scaffold to reorder columns\n",
        "df_od.month_billed = pd.to_datetime(df_od.month_billed, format = \"%Y-%m-%d\")\n",
        "col_list1 = pd.date_range(df_od.month_billed.min(),df_od.month_billed.max(), freq='MS').strftime(\"%b_%Y\").tolist()\n",
        "col_list1.insert(0,'machine_type')\n",
        "df_od_final = df_od_final[col_list1]\n",
        "df_od_final = df_od_final.rename_axis(index=None,columns=None)"
      ],
      "metadata": {
        "id": "36Ds1jAcD3Al"
      },
      "execution_count": null,
      "outputs": []
    },
    {
      "cell_type": "code",
      "source": [
        "#creating shared index\n",
        "#Take first date column from new df and last from other\n",
        "begin_1 = pd.to_datetime(df_od_final.columns[1], format = \"%b_%Y\")\n",
        "begin_2 = pd.to_datetime(final.columns[1], format = \"%b_%Y\")\n",
        "end_1 = pd.to_datetime(df_od_final.columns[-1], format = \"%b_%Y\")\n",
        "end_2 = pd.to_datetime(final.columns[-1], format = \"%b_%Y\")\n",
        "col_list_1 = pd.date_range(end_1,end_2, freq='MS').strftime(\"%b_%Y\").tolist()\n",
        "col_list_2 = pd.date_range(begin_1,begin_2, freq='MS').strftime(\"%b_%Y\").tolist()\n",
        "col_list_2.pop(-1) #removing final month of reserved machines as this would be set to zero below\n",
        "col_list_1.pop(1) #removing the first month of list one, as it would set to zero below"
      ],
      "metadata": {
        "id": "Vwat1i9aVs-P",
        "colab": {
          "base_uri": "https://localhost:8080/",
          "height": 35
        },
        "outputId": "5a12dafe-7d45-462c-a14e-45fcec1fb6ff"
      },
      "execution_count": null,
      "outputs": [
        {
          "output_type": "execute_result",
          "data": {
            "text/plain": [
              "'Jan_2023'"
            ],
            "application/vnd.google.colaboratory.intrinsic+json": {
              "type": "string"
            }
          },
          "metadata": {},
          "execution_count": 14
        }
      ]
    },
    {
      "cell_type": "code",
      "source": [
        "#recreating scaffold for On-Demand\n",
        "for p in range(1,len(col_list_1)):\n",
        "  df_od_final[col_list_1[p]] = 0.0\n",
        "\n",
        "#recreating scaffold for Reserved machines\n",
        "for q in range(0,len(col_list_2)):\n",
        "  final[col_list_2[q]] = 0.0\n",
        "\n",
        "listt = df_od_final.columns\n",
        "final = final[listt]\n",
        "\n",
        "df_od_final['calctype'] = 'ondemand'\n",
        "final['calctype'] = 'reserved'"
      ],
      "metadata": {
        "id": "xExdzqfxVon-"
      },
      "execution_count": null,
      "outputs": []
    },
    {
      "cell_type": "code",
      "source": [
        "#merging the dataframes\n",
        "final_export = final.append(df_od_final, ignore_index=True)\n"
      ],
      "metadata": {
        "id": "ja-XCCZNV5On"
      },
      "execution_count": null,
      "outputs": []
    },
    {
      "cell_type": "code",
      "source": [
        "string_name = str(datetime.today().month) + \"-\" + str(datetime.today().day)\n",
        "file_name_raw = 'xxx_monthlyhours_' + string_name + '.csv'\n",
        "final_export.to_csv(file_name_raw)\n",
        "files.download(file_name_raw)\n",
        "final_export"
      ],
      "metadata": {
        "id": "iLTBFBqcTozh"
      },
      "execution_count": null,
      "outputs": []
    }
  ]
}